{
 "cells": [
  {
   "cell_type": "code",
   "execution_count": null,
   "metadata": {},
   "outputs": [],
   "source": [
    "# Bayes' theorem\n",
    "\n",
    "# P(A|B) = P(A)*P(B/A) / P(B)\n",
    "\n",
    "# Event A = is a user of the drug\n",
    "# Event B = tested positively for the drug\n",
    "\n",
    "\n",
    "# Again, a drug test can be a common example of applying Bayes' theorem to prove a point.\n",
    "# Even a highly accurate drug test can produce more false positives than true positives. So in\n",
    "# our example here, we're going to come up with a drug test that can accurately identify users\n",
    "# of a drug 99% of the time and accurately has a negative result for 99% of non-users, but only\n",
    "# 0.3% of the overall population actually uses the drug in question. So we have a very small\n",
    "# probability of actually being a user of a drug. What seems like a very high accuracy of 99%\n",
    "# isn't actually high enough, right?\n",
    "\n",
    "# So the probability of a positive test result given that you're actually a drug user works out\n",
    "# as the probability of being a user of the drug overall (P(A)), which is 3% (you know that 3%\n",
    "# of the population is a drug user) multiplied by P(B|A) that is the probability of testing\n",
    "# positively given that you're a user divided by the probability of testing positively overall\n",
    "# which is 1.3%. Again, this test has what sounds like a very high accuracy of 99%. We have\n",
    "# 0.3% of the population which uses a drug multiplied by the accuracy of 99% divided by the\n",
    "# probability of testing positively overall, which is 1.3%. So the probability of being an actual\n",
    "# user of this drug given that you tested positive for it is only 22.8%. So even though this drug\n",
    "# test is accurate 99% of the time, it's still providing a false result in most of the cases where\n",
    "# you're testing positive.\n",
    "\n",
    "\n",
    "\n",
    "\n"
   ]
  },
  {
   "cell_type": "code",
   "execution_count": null,
   "metadata": {},
   "outputs": [],
   "source": []
  },
  {
   "cell_type": "code",
   "execution_count": null,
   "metadata": {},
   "outputs": [],
   "source": []
  },
  {
   "cell_type": "code",
   "execution_count": null,
   "metadata": {},
   "outputs": [],
   "source": []
  },
  {
   "cell_type": "code",
   "execution_count": null,
   "metadata": {},
   "outputs": [],
   "source": []
  },
  {
   "cell_type": "code",
   "execution_count": null,
   "metadata": {},
   "outputs": [],
   "source": []
  },
  {
   "cell_type": "code",
   "execution_count": null,
   "metadata": {},
   "outputs": [],
   "source": []
  },
  {
   "cell_type": "code",
   "execution_count": null,
   "metadata": {},
   "outputs": [],
   "source": []
  },
  {
   "cell_type": "code",
   "execution_count": null,
   "metadata": {},
   "outputs": [],
   "source": []
  },
  {
   "cell_type": "code",
   "execution_count": null,
   "metadata": {},
   "outputs": [],
   "source": []
  },
  {
   "cell_type": "code",
   "execution_count": null,
   "metadata": {},
   "outputs": [],
   "source": []
  },
  {
   "cell_type": "code",
   "execution_count": null,
   "metadata": {},
   "outputs": [],
   "source": []
  },
  {
   "cell_type": "code",
   "execution_count": null,
   "metadata": {},
   "outputs": [],
   "source": []
  },
  {
   "cell_type": "code",
   "execution_count": null,
   "metadata": {},
   "outputs": [],
   "source": []
  }
 ],
 "metadata": {
  "kernelspec": {
   "display_name": "Python 3",
   "language": "python",
   "name": "python3"
  },
  "language_info": {
   "codemirror_mode": {
    "name": "ipython",
    "version": 3
   },
   "file_extension": ".py",
   "mimetype": "text/x-python",
   "name": "python",
   "nbconvert_exporter": "python",
   "pygments_lexer": "ipython3",
   "version": "3.7.4"
  }
 },
 "nbformat": 4,
 "nbformat_minor": 2
}
